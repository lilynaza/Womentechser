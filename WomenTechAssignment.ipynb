{
  "nbformat": 4,
  "nbformat_minor": 0,
  "metadata": {
    "colab": {
      "name": "WomenTechAssignment.ipynb",
      "provenance": [],
      "collapsed_sections": [],
      "include_colab_link": true
    },
    "kernelspec": {
      "name": "python3",
      "display_name": "Python 3"
    },
    "language_info": {
      "name": "python"
    }
  },
  "cells": [
    {
      "cell_type": "markdown",
      "metadata": {
        "id": "view-in-github",
        "colab_type": "text"
      },
      "source": [
        "<a href=\"https://colab.research.google.com/github/lilynaza/Womentechser/blob/main/WomenTechAssignment.ipynb\" target=\"_parent\"><img src=\"https://colab.research.google.com/assets/colab-badge.svg\" alt=\"Open In Colab\"/></a>"
      ]
    },
    {
      "cell_type": "code",
      "metadata": {
        "id": "keaJyK05zvJf"
      },
      "source": [
        "import requests\n",
        "import json\n",
        "def detect_lang(strng):\n",
        "    \n",
        "    url = \"https://google-translate1.p.rapidapi.com/language/translate/v2/detect\"\n",
        "\n",
        "    payload = f\"q={strng}\"\n",
        "    headers = {\n",
        "    'content-type': \"application/x-www-form-urlencoded\",\n",
        "    'accept-encoding': \"application/gzip\",\n",
        "    'x-rapidapi-key': \"e629652e33msh5b919f31385fb18p1092fcjsnb19fcbd2f3a6\",\n",
        "    'x-rapidapi-host': \"google-translate1.p.rapidapi.com\"\n",
        "    }\n",
        "\n",
        "    response = requests.request(\"POST\", url, data=payload, headers=headers)\n",
        "    data = json.loads(response.text)\n",
        "    \n",
        "    comp_lang = data['data']['detections'][0][0]['language']\n",
        "    return comp_lang"
      ],
      "execution_count": null,
      "outputs": []
    },
    {
      "cell_type": "code",
      "metadata": {
        "id": "kFIbGOSX3q6s"
      },
      "source": [
        "def trans_lang(string, trans_lanng, comp_lang):\n",
        "    url = \"https://google-translate1.p.rapidapi.com/language/translate/v2\"\n",
        "\n",
        "    payload = f\"q={string}&target={trans_lanng}&source={comp_lang}\"\n",
        "    headers = {\n",
        "    'content-type': \"application/x-www-form-urlencoded\",\n",
        "    'accept-encoding': \"application/gzip\",\n",
        "    'x-rapidapi-key': \"e629652e33msh5b919f31385fb18p1092fcjsnb19fcbd2f3a6\",\n",
        "    'x-rapidapi-host': \"google-translate1.p.rapidapi.com\"\n",
        "    }\n",
        "    response = requests.request(\"POST\", url, data=payload, headers=headers)\n",
        "    data = json.loads(response.text)\n",
        "    return data['data']['translations'][0]['translatedText']"
      ],
      "execution_count": null,
      "outputs": []
    },
    {
      "cell_type": "code",
      "metadata": {
        "id": "Ff-qPXVD3zCb"
      },
      "source": [
        "print(\"Welcome to our company\")\n",
        "complains = {}\n",
        "lang={\"fr\":\"french\",\"es\":\"Spanish\"}\n",
        "def language_translate():\n",
        "    is_has_complains=True\n",
        "    while is_has_complains:\n",
        "      user_input = input(\"Do you have any complains? [1]. Yes [2]. No: \")\n",
        "      if user_input == '1':\n",
        "          user_complain = input('what is your complain?: ')\n",
        "          user_id =input(\"Enter your id: \")\n",
        "          if user_id in complains.keys():\n",
        "              print('User id already exist')\n",
        "          else:\n",
        "              complains[user_id] = user_complain\n",
        "              print('complain added.')\n",
        "              comp_lang = detect_lang(complains[user_id])\n",
        "              trans_language = input('which of the language do you want to translate to? press 1 for french 2 for spanish: ')\n",
        "              trans_language = \"fr\" if trans_language =='1'  else \"es\"\n",
        "              print(f\"The {lang[trans_language]} translation for your complain is: \" + trans_lang(complains[user_id], trans_language, comp_lang))\n",
        "              print(\"------------------------------------------------------------------------------\") \n",
        "      else:\n",
        "          print ('Thank you and goodbye') \n",
        "          is_has_complains=False\n",
        "        \n",
        "      \n"
      ],
      "execution_count": null,
      "outputs": []
    },
    {
      "cell_type": "code",
      "metadata": {
        "colab": {
          "base_uri": "https://localhost:8080/"
        },
        "id": "9IJragBH6SYo",
        "outputId": "c2138a84-4eaa-4605-91ce-ec974b3c5077"
      },
      "source": [
        "language_translate()"
      ],
      "execution_count": null,
      "outputs": [
        {
          "output_type": "stream",
          "text": [
            "Do you have any complains? [1]. Yes [2]. No: 1\n",
            "what is your complain?: i love you\n",
            "Enter your id: 777\n",
            "complain added.\n",
            "which of the language do you want to translate to? press 1 for french 2 for spanish: 2\n",
            "The Spanish translation for your complain is: te quiero\n",
            "------------------------------------------------------------------------------\n",
            "Do you have any complains? [1]. Yes [2]. No: 2\n",
            "Thank you and goodbye\n"
          ],
          "name": "stdout"
        }
      ]
    },
    {
      "cell_type": "code",
      "metadata": {
        "id": "mPJXXGgIdP1W"
      },
      "source": [
        ""
      ],
      "execution_count": null,
      "outputs": []
    }
  ]
}